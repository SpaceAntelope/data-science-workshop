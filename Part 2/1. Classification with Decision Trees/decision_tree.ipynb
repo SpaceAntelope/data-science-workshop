{
 "cells": [
    {
    "cell_type": "code",
    "execution_count": 1,
    "metadata": {},
    "outputs": [],
    "source": [
        "import pydotplus\n",
"import pandas as pd\n",
"from sklearn.tree import DecisionTreeClassifier, export_graphviz\n"
    ]
    },

    {
    "cell_type": "code",
    "execution_count": 1,
    "metadata": {},
    "outputs": [],
    "source": [
        "# Read the data\n",
"data = pd.read_csv(\"weather.csv\", sep=';', dtype='category')\n"
    ]
    },

    {
    "cell_type": "code",
    "execution_count": 1,
    "metadata": {},
    "outputs": [],
    "source": [
        "# Transform the data\n",
"#print(data)\n",
"data = data.apply(lambda x: pd.factorize(x)[0])\n"
    ]
    },

    {
    "cell_type": "code",
    "execution_count": 1,
    "metadata": {},
    "outputs": [],
    "source": [
        "# Split the data\n",
"X_train = data.iloc[:, 0:3]\n",
"Y_train = data[[\"Play\"]]\n"
    ]
    },

    {
    "cell_type": "code",
    "execution_count": 1,
    "metadata": {},
    "outputs": [],
    "source": [
        "# Train the classifier\n",
"model = DecisionTreeClassifier(criterion=\"gini\", min_samples_split=2, min_samples_leaf=1)\n",
"model.fit(X_train, Y_train)\n"
    ]
    },

    {
    "cell_type": "code",
    "execution_count": 1,
    "metadata": {},
    "outputs": [],
    "source": [
        "# Plot the tree\n",
"dot_data = export_graphviz(model, out_file=None, feature_names=X_train.columns.values, \\n",
"                           class_names=[\"No\", \"Yes\"], proportion=True, rounded=True)\n",
"graph = pydotplus.graph_from_dot_data(dot_data)\n",
"# Visualize using IPython\n",
"from IPython.display import Image, display\n",
"display(Image(graph.create_png()))\n",
"# Visualize using matplotlib\n",
"#from io import BytesIO\n",
"#import matplotlib.pyplot as plt\n",
"#import matplotlib.image as mpimg\n",
"#plt.figure()\n",
"#img = mpimg.imread(BytesIO(graph.create_png()))\n",
"#imgplot = plt.imshow(img,  aspect='equal')\n",
"#plt.axis('off')\n",
"#plt.show()\n"
    ]
    },

    {
    "cell_type": "code",
    "execution_count": 1,
    "metadata": {},
    "outputs": [],
    "source": [
        "# Make a new prediction\n",
"print(model.predict([[0, 0, 0]]))\n",
"\n"
    ]
    }],
 "metadata": {
  "kernelspec": {
   "display_name": "Python 3",
   "language": "python",
   "name": "python3"
  },
  "language_info": {
   "codemirror_mode": {
    "name": "ipython",
    "version": 3
   },
   "file_extension": ".py",
   "mimetype": "text/x-python",
   "name": "python",
   "nbconvert_exporter": "python",
   "pygments_lexer": "ipython3",
   "version": "3.6.6"
  }
 },
 "nbformat": 4,
 "nbformat_minor": 2
}
