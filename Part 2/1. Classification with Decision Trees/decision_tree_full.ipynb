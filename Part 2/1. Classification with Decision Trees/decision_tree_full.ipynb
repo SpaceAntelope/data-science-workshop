{
 "cells": [
    {
    "cell_type": "code",
    "execution_count": 1,
    "metadata": {},
    "outputs": [],
    "source": [
        "import pydotplus\n",
"import numpy as np\n",
"import pandas as pd\n",
"from sklearn import datasets\n",
"import matplotlib.pyplot as plt\n",
"from sklearn.model_selection import train_test_split\n",
"from sklearn.tree import DecisionTreeClassifier, export_graphviz\n",
"from sklearn.metrics import classification_report, confusion_matrix\n"
    ]
    },

    {
    "cell_type": "code",
    "execution_count": 1,
    "metadata": {},
    "outputs": [],
    "source": [
        "# Read the data\n",
"data = pd.read_csv(\"weatherfull.csv\", sep=';', dtype='float')\n"
    ]
    },

    {
    "cell_type": "code",
    "execution_count": 1,
    "metadata": {},
    "outputs": [],
    "source": [
        "# Plot the data\n",
"fig, ax = plt.subplots()\n",
"groups = data.groupby('Play')\n",
"for name, group in groups:\n",
"    ax.plot(group.iloc[:, 0], group.iloc[:, 1], marker='o', linestyle='', label=name)\n",
"ax.set_xlabel('Temperature')\n",
"ax.set_ylabel('Humidity')\n",
"ax.legend()\n"
    ]
    },

    {
    "cell_type": "code",
    "execution_count": 1,
    "metadata": {},
    "outputs": [],
    "source": [
        "# Split the data\n",
"X = data.iloc[:, 0:2]\n",
"y = data.iloc[:, 2]\n",
"X_train, X_test, y_train, y_test = train_test_split(X, y, test_size=0.30, random_state=4)\n"
    ]
    },

    {
    "cell_type": "code",
    "execution_count": 1,
    "metadata": {},
    "outputs": [],
    "source": [
        "# Train the model\n",
"model = DecisionTreeClassifier(criterion=\"gini\", min_samples_split=20, min_samples_leaf=1)\n",
"model.fit(X_train, y_train)\n"
    ]
    },

    {
    "cell_type": "code",
    "execution_count": 1,
    "metadata": {},
    "outputs": [],
    "source": [
        "# Evaluate the model\n",
"y_pred = model.predict(X_test)\n",
"print(confusion_matrix(y_test, y_pred))\n",
"print(classification_report(y_test, y_pred))\n"
    ]
    },

    {
    "cell_type": "code",
    "execution_count": 1,
    "metadata": {},
    "outputs": [],
    "source": [
        "# Plot the tree\n",
"dot_data = export_graphviz(model, out_file=None, proportion=True, \\n",
"                           feature_names=X_train.columns.values,rounded=True)\n",
"graph = pydotplus.graph_from_dot_data(dot_data)\n",
"# Visualize using IPython\n",
"#from IPython.display import Image, display\n",
"#display(Image(graph.create_png()))\n",
"# Visualize using matplotlib\n",
"from io import BytesIO\n",
"import matplotlib.pyplot as plt\n",
"import matplotlib.image as mpimg\n",
"plt.figure()\n",
"img = mpimg.imread(BytesIO(graph.create_png()))\n",
"imgplot = plt.imshow(img,  aspect='equal')\n",
"plt.axis('off')\n",
"plt.show()\n"
    ]
    },

    {
    "cell_type": "code",
    "execution_count": 1,
    "metadata": {},
    "outputs": [],
    "source": [
        "\n"
    ]
    }],
 "metadata": {
  "kernelspec": {
   "display_name": "Python 3",
   "language": "python",
   "name": "python3"
  },
  "language_info": {
   "codemirror_mode": {
    "name": "ipython",
    "version": 3
   },
   "file_extension": ".py",
   "mimetype": "text/x-python",
   "name": "python",
   "nbconvert_exporter": "python",
   "pygments_lexer": "ipython3",
   "version": "3.6.6"
  }
 },
 "nbformat": 4,
 "nbformat_minor": 2
}
