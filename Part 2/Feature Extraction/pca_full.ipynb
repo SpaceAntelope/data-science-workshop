{
 "cells": [
    {
    "cell_type": "code",
    "execution_count": 1,
    "metadata": {},
    "outputs": [],
    "source": [
        "import numpy as np\n",
"import pandas as pd\n",
"from sklearn import datasets\n",
"import matplotlib.pyplot as plt\n",
"from sklearn.decomposition import PCA\n",
"from sklearn.preprocessing import MinMaxScaler\n",
"from sklearn.metrics import classification_report\n",
"from sklearn.neighbors import KNeighborsClassifier\n",
"from sklearn.model_selection import train_test_split\n"
    ]
    },

    {
    "cell_type": "code",
    "execution_count": 1,
    "metadata": {},
    "outputs": [],
    "source": [
        "# Read data\n",
"pdata = pd.read_csv(\"wine.csv\", sep=';')\n"
    ]
    },

    {
    "cell_type": "code",
    "execution_count": 1,
    "metadata": {},
    "outputs": [],
    "source": [
        "# Split the data\n",
"trainingdata, testdata = train_test_split(pdata, test_size=0.30, random_state=2)\n",
"X_train, Y_train = trainingdata.iloc[:, 0:-1], trainingdata.iloc[:, -1]\n",
"X_test, Y_test = testdata.iloc[:, 0:-1], testdata.iloc[:, -1]\n"
    ]
    },

    {
    "cell_type": "code",
    "execution_count": 1,
    "metadata": {},
    "outputs": [],
    "source": [
        "# Scale the data\n",
"scaler = MinMaxScaler()\n",
"X_train = scaler.fit_transform(X_train)\n",
"X_test = scaler.transform(X_test)\n"
    ]
    },

    {
    "cell_type": "code",
    "execution_count": 1,
    "metadata": {},
    "outputs": [],
    "source": [
        "# Apply classifier\n",
"model = KNeighborsClassifier(n_neighbors=4)\n",
"model.fit(X_train, Y_train)\n",
"Y_pred = model.predict(X_test)\n",
"print(classification_report(Y_test, Y_pred))\n"
    ]
    },

    {
    "cell_type": "code",
    "execution_count": 1,
    "metadata": {},
    "outputs": [],
    "source": [
        "# Apply PCA\n",
"pca = PCA(n_components=X_train.shape[1])\n",
"pca.fit(X_train)\n"
    ]
    },

    {
    "cell_type": "code",
    "execution_count": 1,
    "metadata": {},
    "outputs": [],
    "source": [
        "# Plot variance ratio\n",
"variance = pca.explained_variance_ratio_\n",
"xticks = list(range(len(variance)))\n",
"plt.bar(xticks, variance)\n",
"plt.xticks(xticks, ['PC' + str(i+1) for i in xticks])\n",
"plt.xlabel('Principal Components')\n",
"plt.ylabel('Percentage of Variance')\n",
"plt.show()\n"
    ]
    },

    {
    "cell_type": "code",
    "execution_count": 1,
    "metadata": {},
    "outputs": [],
    "source": [
        "# Transform data\n",
"X_train_transformed = pca.transform(X_train)\n",
"X_test_transformed = pca.transform(X_test)\n"
    ]
    },

    {
    "cell_type": "code",
    "execution_count": 1,
    "metadata": {},
    "outputs": [],
    "source": [
        "# Apply classifier using first 4 PCs\n",
"PCs = 4\n",
"model = KNeighborsClassifier(n_neighbors=4)\n",
"model.fit(X_train_transformed[:, :PCs], Y_train)\n",
"Y_pred = model.predict(X_test_transformed[:, :PCs])\n",
"print(classification_report(Y_test, Y_pred))\n",
"\n"
    ]
    }],
 "metadata": {
  "kernelspec": {
   "display_name": "Python 3",
   "language": "python",
   "name": "python3"
  },
  "language_info": {
   "codemirror_mode": {
    "name": "ipython",
    "version": 3
   },
   "file_extension": ".py",
   "mimetype": "text/x-python",
   "name": "python",
   "nbconvert_exporter": "python",
   "pygments_lexer": "ipython3",
   "version": "3.6.6"
  }
 },
 "nbformat": 4,
 "nbformat_minor": 2
}
