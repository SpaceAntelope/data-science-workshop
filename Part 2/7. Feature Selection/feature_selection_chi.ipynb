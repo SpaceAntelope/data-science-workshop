{
 "cells": [
  {
   "cell_type": "code",
   "execution_count": 1,
   "metadata": {},
   "outputs": [],
   "source": [
    "import numpy as np\n",
    "import pandas as pd\n",
    "from sklearn import datasets\n",
    "from sklearn.tree import DecisionTreeClassifier\n",
    "from sklearn.metrics import classification_report\n",
    "from sklearn.model_selection import train_test_split\n",
    "from sklearn.feature_selection import SelectKBest, chi2\n"
   ]
  },
  {
   "cell_type": "code",
   "execution_count": 3,
   "metadata": {},
   "outputs": [],
   "source": [
    "# Read the data\n",
    "iris = datasets.load_iris()\n",
    "data = pd.DataFrame(data=np.c_[iris['data'], iris['target']],\n",
    "                    columns=iris['feature_names'] + ['target'])\n",
    "# Split the data\n",
    "trainingdata,testdata = train_test_split(data,test_size=0.30,random_state=2)\n",
    "X_train, y_train = trainingdata.iloc[:, 0:4], trainingdata.iloc[:, 4]\n",
    "X_test, y_test = testdata.iloc[:, 0:4], testdata.iloc[:, 4]\n"
   ]
  },
  {
   "cell_type": "code",
   "execution_count": 4,
   "metadata": {},
   "outputs": [
    {
     "name": "stdout",
     "output_type": "stream",
     "text": [
      "              precision    recall  f1-score   support\n",
      "\n",
      "         0.0       1.00      1.00      1.00        17\n",
      "         1.0       0.93      0.93      0.93        15\n",
      "         2.0       0.92      0.92      0.92        13\n",
      "\n",
      "   micro avg       0.96      0.96      0.96        45\n",
      "   macro avg       0.95      0.95      0.95        45\n",
      "weighted avg       0.96      0.96      0.96        45\n",
      "\n"
     ]
    }
   ],
   "source": [
    "# Apply classifier\n",
    "model = DecisionTreeClassifier()\n",
    "model.fit(X_train, y_train)\n",
    "y_pred = model.predict(X_test)\n",
    "print(classification_report(y_test, y_pred))\n"
   ]
  },
  {
   "cell_type": "code",
   "execution_count": 5,
   "metadata": {},
   "outputs": [
    {
     "name": "stdout",
     "output_type": "stream",
     "text": [
      "              precision    recall  f1-score   support\n",
      "\n",
      "         0.0       1.00      1.00      1.00        17\n",
      "         1.0       0.93      0.93      0.93        15\n",
      "         2.0       0.92      0.92      0.92        13\n",
      "\n",
      "   micro avg       0.96      0.96      0.96        45\n",
      "   macro avg       0.95      0.95      0.95        45\n",
      "weighted avg       0.96      0.96      0.96        45\n",
      "\n"
     ]
    }
   ],
   "source": [
    "# Keep 3 out of 4 features\n",
    "fselector = SelectKBest(chi2, k=3)\n",
    "fselector.fit(X_train, y_train)\n",
    "# and apply classifier\n",
    "model = DecisionTreeClassifier()\n",
    "model.fit(fselector.transform(X_train), y_train)\n",
    "y_pred = model.predict(fselector.transform(X_test))\n",
    "print(classification_report(y_test, y_pred))\n"
   ]
  },
  {
   "cell_type": "code",
   "execution_count": 6,
   "metadata": {},
   "outputs": [
    {
     "name": "stdout",
     "output_type": "stream",
     "text": [
      "              precision    recall  f1-score   support\n",
      "\n",
      "         0.0       1.00      1.00      1.00        17\n",
      "         1.0       0.88      0.93      0.90        15\n",
      "         2.0       0.92      0.85      0.88        13\n",
      "\n",
      "   micro avg       0.93      0.93      0.93        45\n",
      "   macro avg       0.93      0.93      0.93        45\n",
      "weighted avg       0.93      0.93      0.93        45\n",
      "\n"
     ]
    }
   ],
   "source": [
    "# Keep 2 out of 4 features\n",
    "fselector = SelectKBest(chi2, k=2)\n",
    "fselector.fit(X_train, y_train)\n",
    "# and apply classifier\n",
    "model = DecisionTreeClassifier()\n",
    "model.fit(fselector.transform(X_train), y_train)\n",
    "y_pred = model.predict(fselector.transform(X_test))\n",
    "print(classification_report(y_test, y_pred))\n"
   ]
  },
  {
   "cell_type": "code",
   "execution_count": 7,
   "metadata": {},
   "outputs": [
    {
     "name": "stdout",
     "output_type": "stream",
     "text": [
      "              precision    recall  f1-score   support\n",
      "\n",
      "         0.0       1.00      1.00      1.00        17\n",
      "         1.0       0.88      0.93      0.90        15\n",
      "         2.0       0.92      0.85      0.88        13\n",
      "\n",
      "   micro avg       0.93      0.93      0.93        45\n",
      "   macro avg       0.93      0.93      0.93        45\n",
      "weighted avg       0.93      0.93      0.93        45\n",
      "\n"
     ]
    }
   ],
   "source": [
    "# Keep 1 out of 4 features\n",
    "fselector = SelectKBest(chi2, k=2)\n",
    "fselector.fit(X_train, y_train)\n",
    "# and apply classifier\n",
    "model = DecisionTreeClassifier()\n",
    "model.fit(fselector.transform(X_train), y_train)\n",
    "y_pred = model.predict(fselector.transform(X_test))\n",
    "print(classification_report(y_test, y_pred))\n"
   ]
  },
  {
   "cell_type": "code",
   "execution_count": 9,
   "metadata": {},
   "outputs": [
    {
     "data": {
      "text/plain": [
       "array([ 6.79133428,  3.16075399, 79.43838547, 45.2161963 ])"
      ]
     },
     "execution_count": 9,
     "metadata": {},
     "output_type": "execute_result"
    }
   ],
   "source": [
    "fselector.scores_\n"
   ]
  }
 ],
 "metadata": {
  "kernelspec": {
   "display_name": "Python 3",
   "language": "python",
   "name": "python3"
  },
  "language_info": {
   "codemirror_mode": {
    "name": "ipython",
    "version": 3
   },
   "file_extension": ".py",
   "mimetype": "text/x-python",
   "name": "python",
   "nbconvert_exporter": "python",
   "pygments_lexer": "ipython3",
   "version": "3.6.6"
  }
 },
 "nbformat": 4,
 "nbformat_minor": 2
}
