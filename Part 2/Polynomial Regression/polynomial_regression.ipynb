{
 "cells": [
    {
    "cell_type": "code",
    "execution_count": 1,
    "metadata": {},
    "outputs": [],
    "source": [
        "import numpy as np\n",
"import pandas as pd\n",
"from math import sqrt\n",
"import matplotlib.pyplot as plt\n",
"from sklearn.linear_model import LinearRegression\n",
"from sklearn.preprocessing import PolynomialFeatures\n",
"from sklearn.metrics import mean_squared_error\n"
    ]
    },

    {
    "cell_type": "code",
    "execution_count": 1,
    "metadata": {},
    "outputs": [],
    "source": [
        "# Read data\n",
"data = pd.read_csv(\"ac_data.csv\", sep=';')\n",
"X = data.iloc[:, 0].values.reshape(-1, 1)\n",
"y = data.iloc[:, 1]\n"
    ]
    },

    {
    "cell_type": "code",
    "execution_count": 1,
    "metadata": {},
    "outputs": [],
    "source": [
        "# Plot the data\n",
"#plt.plot(X, y, 'o')\n",
"#plt.xlabel(data.columns.values[0])\n",
"#plt.ylabel(data.columns.values[1])\n"
    ]
    },

    {
    "cell_type": "code",
    "execution_count": 1,
    "metadata": {},
    "outputs": [],
    "source": [
        "# Create test space\n",
"X_test = np.linspace(X.min(), X.max(), 100).reshape(-1, 1)\n"
    ]
    },

    {
    "cell_type": "code",
    "execution_count": 1,
    "metadata": {},
    "outputs": [],
    "source": [
        "# Apply linear regression model\n",
"model = LinearRegression()\n",
"model.fit(X, y)\n",
"y_pred_d1 = model.predict(X_test)\n"
    ]
    },

    {
    "cell_type": "code",
    "execution_count": 1,
    "metadata": {},
    "outputs": [],
    "source": [
        "# Show equation for first model\n",
"print('Equation: y = ' + str(model.intercept_) + ' + ' + str(model.coef_))\n"
    ]
    },

    {
    "cell_type": "code",
    "execution_count": 1,
    "metadata": {},
    "outputs": [],
    "source": [
        "# Apply polynomial regression model\n",
"degree = 4\n",
"poly_features = PolynomialFeatures(degree = degree, include_bias = False)\n",
"model = LinearRegression()\n",
"model.fit(poly_features.fit_transform(X), y)\n",
"y_pred_d4 = model.predict(poly_features.fit_transform(X_test))\n"
    ]
    },

    {
    "cell_type": "code",
    "execution_count": 1,
    "metadata": {},
    "outputs": [],
    "source": [
        "# Show equation for second model\n",
"print('Equation: y = ' + str(model.intercept_) + ' + ' + \\n",
"        ' + '.join(str(model.coef_[d]) + ' * x^' + str(d+1) for d in range(degree)))\n"
    ]
    },

    {
    "cell_type": "code",
    "execution_count": 1,
    "metadata": {},
    "outputs": [],
    "source": [
        "# Plot the two models\n",
"plt.figure()\n",
"plt.plot(X, y, 'o')\n",
"plt.plot(X_test, y_pred_d1, linewidth=3, label=\"degree=1\")\n",
"plt.plot(X_test, y_pred_d4, linewidth=3, label=\"degree=\" + str(degree))\n",
"plt.legend()\n",
"plt.xlabel(data.columns.values[0])\n",
"plt.ylabel(data.columns.values[1])\n",
"plt.show()\n"
    ]
    },

    {
    "cell_type": "code",
    "execution_count": 1,
    "metadata": {},
    "outputs": [],
    "source": [
        "# Calculate RMSE for different polynomial degrees\n",
"errors = []\n",
"degrees = list(range(1, 11))\n",
"for degree in degrees:\n",
"	poly_features = PolynomialFeatures(degree = degree)\n",
"	X_poly = poly_features.fit_transform(X)\n",
"	model = LinearRegression()\n",
"	model.fit(X_poly, y)\n",
"	y_pred = model.predict(X_poly)\n",
"	errors.append(sqrt(mean_squared_error(y, y_pred)))\n"
    ]
    },

    {
    "cell_type": "code",
    "execution_count": 1,
    "metadata": {},
    "outputs": [],
    "source": [
        "plt.figure()\n",
"plt.plot(degrees, errors)\n",
"plt.xlabel('Degree')\n",
"plt.ylabel('RMSE')\n",
"plt.show()\n",
"\n"
    ]
    }],
 "metadata": {
  "kernelspec": {
   "display_name": "Python 3",
   "language": "python",
   "name": "python3"
  },
  "language_info": {
   "codemirror_mode": {
    "name": "ipython",
    "version": 3
   },
   "file_extension": ".py",
   "mimetype": "text/x-python",
   "name": "python",
   "nbconvert_exporter": "python",
   "pygments_lexer": "ipython3",
   "version": "3.6.6"
  }
 },
 "nbformat": 4,
 "nbformat_minor": 2
}
