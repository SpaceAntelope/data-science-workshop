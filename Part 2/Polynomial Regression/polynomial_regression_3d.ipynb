{
 "cells": [
    {
    "cell_type": "code",
    "execution_count": 1,
    "metadata": {},
    "outputs": [],
    "source": [
        "import numpy as np\n",
"import pandas as pd\n",
"from math import sqrt\n",
"import matplotlib.pyplot as plt\n",
"from sklearn.linear_model import LinearRegression\n",
"from sklearn.preprocessing import PolynomialFeatures\n",
"from sklearn.metrics import mean_absolute_error, mean_squared_error, r2_score\n",
"from mpl_toolkits.mplot3d import Axes3D\n"
    ]
    },

    {
    "cell_type": "code",
    "execution_count": 1,
    "metadata": {},
    "outputs": [],
    "source": [
        "# Read data\n",
"data = pd.read_csv(\"ad_data_3d.csv\", sep=';')\n"
    ]
    },

    {
    "cell_type": "code",
    "execution_count": 1,
    "metadata": {},
    "outputs": [],
    "source": [
        "# Plot data\n",
"fig = plt.figure()\n",
"ax = Axes3D(fig)\n",
"a, b, c = data.columns.values\n",
"for index, row in data.iterrows():\n",
"    ax.scatter(row[a], row[b], row[c], color='b')\n",
"ax.set_xlabel(a)\n",
"ax.set_ylabel(b)\n",
"ax.set_zlabel(c)\n",
"plt.show()\n"
    ]
    },

    {
    "cell_type": "code",
    "execution_count": 1,
    "metadata": {},
    "outputs": [],
    "source": [
        "# Apply linear regression model\n",
"X = data.iloc[:, 0:2]\n",
"y = data.iloc[:, 2]\n",
"model = LinearRegression()\n",
"model.fit(X, y)\n",
"y_pred = model.predict(X)\n"
    ]
    },

    {
    "cell_type": "code",
    "execution_count": 1,
    "metadata": {},
    "outputs": [],
    "source": [
        "# Show equation for first model\n",
"print('Equation: y = ' + \\n",
"        str(model.intercept_) + ' + ' + \\n",
"        str(model.coef_[0]) + ' * x ' + ' + ' + \\n",
"        str(model.coef_[1]) + ' * y ')\n"
    ]
    },

    {
    "cell_type": "code",
    "execution_count": 1,
    "metadata": {},
    "outputs": [],
    "source": [
        "# Calculate metrics\n",
"print(\"Mean Absolute Error: %.2f\" %mean_absolute_error(y, y_pred))\n",
"print(\"Mean Squared Error: %.2f\" %mean_squared_error(y, y_pred))\n",
"print(\"Root Mean Squared Error: %.2f\" %sqrt(mean_squared_error(y, y_pred)))\n",
"print(\"Coefficient of Determination: %.2f\" %r2_score(y, y_pred))\n"
    ]
    },

    {
    "cell_type": "code",
    "execution_count": 1,
    "metadata": {},
    "outputs": [],
    "source": [
        "# Apply polynomial regression model\n",
"degree = 2\n",
"poly_features = PolynomialFeatures(degree = degree, include_bias = False)\n",
"model = LinearRegression()\n",
"X_poly = poly_features.fit_transform(X)\n",
"model.fit(X_poly, y)\n",
"y_pred = model.predict(X_poly)\n"
    ]
    },

    {
    "cell_type": "code",
    "execution_count": 1,
    "metadata": {},
    "outputs": [],
    "source": [
        "# Show equation for second model\n",
"print('\nEquation: y = ' + str(model.intercept_) + ' + ' + \\n",
"        str(model.coef_[0]) + ' * x ' + ' + ' + \\n",
"        str(model.coef_[1]) + ' * y ' + ' + ' + \\n",
"        str(model.coef_[2]) + ' * x^2 ' + ' + ' + \\n",
"        str(model.coef_[3]) + ' * xy ' + ' + ' + \\n",
"        str(model.coef_[4]) + ' * y^2 ')\n"
    ]
    },

    {
    "cell_type": "code",
    "execution_count": 1,
    "metadata": {},
    "outputs": [],
    "source": [
        "# Calculate metrics\n",
"print(\"Mean Absolute Error: %.2f\" %mean_absolute_error(y, y_pred))\n",
"print(\"Mean Squared Error: %.2f\" %mean_squared_error(y, y_pred))\n",
"print(\"Root Mean Squared Error: %.2f\" %sqrt(mean_squared_error(y, y_pred)))\n",
"print(\"Coefficient of Determination: %.2f\" %r2_score(y, y_pred))\n",
"\n"
    ]
    }],
 "metadata": {
  "kernelspec": {
   "display_name": "Python 3",
   "language": "python",
   "name": "python3"
  },
  "language_info": {
   "codemirror_mode": {
    "name": "ipython",
    "version": 3
   },
   "file_extension": ".py",
   "mimetype": "text/x-python",
   "name": "python",
   "nbconvert_exporter": "python",
   "pygments_lexer": "ipython3",
   "version": "3.6.6"
  }
 },
 "nbformat": 4,
 "nbformat_minor": 2
}
