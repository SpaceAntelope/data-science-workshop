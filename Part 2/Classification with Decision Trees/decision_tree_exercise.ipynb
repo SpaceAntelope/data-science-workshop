{
 "cells": [
    {
    "cell_type": "code",
    "execution_count": 1,
    "metadata": {},
    "outputs": [],
    "source": [
        "import pydotplus\n",
"import numpy as np\n",
"import pandas as pd\n",
"from sklearn import datasets\n",
"import matplotlib.pyplot as plt\n",
"from sklearn.model_selection import train_test_split\n",
"from sklearn.tree import DecisionTreeClassifier, export_graphviz\n",
"from sklearn.metrics import classification_report, confusion_matrix\n"
    ]
    },

    {
    "cell_type": "code",
    "execution_count": 1,
    "metadata": {},
    "outputs": [],
    "source": [
        "# Read the data\n",
"iris = datasets.load_iris()\n",
"data = pd.DataFrame(data=np.c_[iris['data'], iris['target']], columns=iris['feature_names'] + ['target'])\n"
    ]
    },

    {
    "cell_type": "code",
    "execution_count": 1,
    "metadata": {},
    "outputs": [],
    "source": [
        "# Plot the data\n",
"fig, ax = plt.subplots()\n",
"groups = data.groupby('target')\n",
"for name, group in groups:\n",
"    ax.plot(group.iloc[:, 0], group.iloc[:, 1], marker='o', linestyle='', label=name)\n",
"ax.set_xlabel('Sepal length')\n",
"ax.set_ylabel('Sepal width')\n",
"ax.legend(iris['target_names'])\n"
    ]
    },

    {
    "cell_type": "code",
    "execution_count": 1,
    "metadata": {},
    "outputs": [],
    "source": [
        "# Split the data\n",
"X = data.iloc[:, 0:2]\n",
"y = data.iloc[:, 4]\n",
"X_train, X_test, y_train, y_test = train_test_split(X, y, test_size=0.20, random_state=42)\n"
    ]
    },

    {
    "cell_type": "code",
    "execution_count": 1,
    "metadata": {},
    "outputs": [],
    "source": [
        "# Train the model\n",
"model = DecisionTreeClassifier(criterion=\"gini\", min_samples_split=2, min_samples_leaf=1)\n",
"model.fit(X_train, y_train)\n"
    ]
    },

    {
    "cell_type": "code",
    "execution_count": 1,
    "metadata": {},
    "outputs": [],
    "source": [
        "# Evaluate the model\n",
"y_pred = model.predict(X_test)\n",
"print(confusion_matrix(y_test, y_pred))\n",
"print(classification_report(y_test, y_pred, target_names = iris['target_names']))\n"
    ]
    },

    {
    "cell_type": "code",
    "execution_count": 1,
    "metadata": {},
    "outputs": [],
    "source": [
        "# Plot the tree\n",
"dot_data = export_graphviz(model, out_file=None, feature_names=X_train.columns.values, \\n",
"                           proportion=True, rounded=True)\n",
"graph = pydotplus.graph_from_dot_data(dot_data)\n"
    ]
    },

    {
    "cell_type": "code",
    "execution_count": 1,
    "metadata": {},
    "outputs": [],
    "source": [
        "# Visualize using IPython\n",
"#from IPython.display import Image, display\n",
"#display(Image(graph.create_png()))\n",
"# Visualize using matplotlib\n",
"from io import BytesIO\n",
"import matplotlib.pyplot as plt\n",
"import matplotlib.image as mpimg\n",
"plt.figure()\n",
"img = mpimg.imread(BytesIO(graph.create_png()))\n",
"imgplot = plt.imshow(img,  aspect='equal')\n",
"plt.axis('off')\n",
"plt.show()\n"
    ]
    },

    {
    "cell_type": "code",
    "execution_count": 1,
    "metadata": {},
    "outputs": [],
    "source": [
        "\n"
    ]
    }],
 "metadata": {
  "kernelspec": {
   "display_name": "Python 3",
   "language": "python",
   "name": "python3"
  },
  "language_info": {
   "codemirror_mode": {
    "name": "ipython",
    "version": 3
   },
   "file_extension": ".py",
   "mimetype": "text/x-python",
   "name": "python",
   "nbconvert_exporter": "python",
   "pygments_lexer": "ipython3",
   "version": "3.6.6"
  }
 },
 "nbformat": 4,
 "nbformat_minor": 2
}
