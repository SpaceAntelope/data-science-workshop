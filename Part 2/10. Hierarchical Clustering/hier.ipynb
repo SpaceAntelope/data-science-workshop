{
 "cells": [
  {
   "cell_type": "code",
   "execution_count": 1,
   "metadata": {},
   "outputs": [],
   "source": [
    "import numpy as np\n",
    "import pandas as pd\n",
    "import matplotlib.pyplot as plt\n",
    "from scipy.cluster.hierarchy import dendrogram, linkage, fcluster\n"
   ]
  },
  {
   "cell_type": "code",
   "execution_count": 3,
   "metadata": {},
   "outputs": [
    {
     "data": {
      "text/html": [
       "<div>\n",
       "<style scoped>\n",
       "    .dataframe tbody tr th:only-of-type {\n",
       "        vertical-align: middle;\n",
       "    }\n",
       "\n",
       "    .dataframe tbody tr th {\n",
       "        vertical-align: top;\n",
       "    }\n",
       "\n",
       "    .dataframe thead th {\n",
       "        text-align: right;\n",
       "    }\n",
       "</style>\n",
       "<table border=\"1\" class=\"dataframe\">\n",
       "  <thead>\n",
       "    <tr style=\"text-align: right;\">\n",
       "      <th></th>\n",
       "      <th>X</th>\n",
       "      <th>Y</th>\n",
       "    </tr>\n",
       "  </thead>\n",
       "  <tbody>\n",
       "    <tr>\n",
       "      <th>0</th>\n",
       "      <td>50</td>\n",
       "      <td>30</td>\n",
       "    </tr>\n",
       "    <tr>\n",
       "      <th>1</th>\n",
       "      <td>24</td>\n",
       "      <td>10</td>\n",
       "    </tr>\n",
       "    <tr>\n",
       "      <th>2</th>\n",
       "      <td>85</td>\n",
       "      <td>70</td>\n",
       "    </tr>\n",
       "    <tr>\n",
       "      <th>3</th>\n",
       "      <td>71</td>\n",
       "      <td>80</td>\n",
       "    </tr>\n",
       "    <tr>\n",
       "      <th>4</th>\n",
       "      <td>60</td>\n",
       "      <td>78</td>\n",
       "    </tr>\n",
       "  </tbody>\n",
       "</table>\n",
       "</div>"
      ],
      "text/plain": [
       "    X   Y\n",
       "0  50  30\n",
       "1  24  10\n",
       "2  85  70\n",
       "3  71  80\n",
       "4  60  78"
      ]
     },
     "execution_count": 3,
     "metadata": {},
     "output_type": "execute_result"
    }
   ],
   "source": [
    "# Read the data\n",
    "X = np.array([[50,30], [24,10], [85,70], [71,80], [60,78], [70,55], [28,91]])\n",
    "data = pd.read_csv(\"data.csv\", sep=';')\n",
    "indexes = [\"x\" + str(i + 1) for i in range(len(data))]\n",
    "data.head()"
   ]
  },
  {
   "cell_type": "code",
   "execution_count": 4,
   "metadata": {},
   "outputs": [
    {
     "data": {
      "text/plain": [
       "Text(0, 0.5, 'Y')"
      ]
     },
     "execution_count": 4,
     "metadata": {},
     "output_type": "execute_result"
    },
    {
     "data": {
      "image/png": "[encoded data removed]",
      "text/plain": [
       "<Figure size 432x288 with 1 Axes>"
      ]
     },
     "metadata": {
      "needs_background": "light"
     },
     "output_type": "display_data"
    }
   ],
   "source": [
    "# Plot the data with labels\n",
    "fig, ax = plt.subplots()\n",
    "for index, row in data.iterrows():\n",
    "    ax.scatter(row['X'], row['Y'], color='b')\n",
    "    ax.text(row['X'], row['Y'], \" x\" + str(index + 1))\n",
    "ax.set_xlabel('X')\n",
    "ax.set_ylabel('Y')\n"
   ]
  },
  {
   "cell_type": "code",
   "execution_count": 5,
   "metadata": {},
   "outputs": [],
   "source": [
    "# Apply hierarchical clustering\n",
    "Z = linkage(X, method='single') # or complete\n"
   ]
  },
  {
   "cell_type": "code",
   "execution_count": 6,
   "metadata": {},
   "outputs": [
    {
     "data": {
      "text/plain": [
       "{'icoord': [[55.0, 55.0, 65.0, 65.0],\n",
       "  [45.0, 45.0, 60.0, 60.0],\n",
       "  [35.0, 35.0, 52.5, 52.5],\n",
       "  [25.0, 25.0, 43.75, 43.75],\n",
       "  [15.0, 15.0, 34.375, 34.375],\n",
       "  [5.0, 5.0, 24.6875, 24.6875]],\n",
       " 'dcoord': [[0.0, 11.180339887498949, 11.180339887498949, 0.0],\n",
       "  [0.0, 17.204650534085253, 17.204650534085253, 11.180339887498949],\n",
       "  [0.0, 21.213203435596427, 21.213203435596427, 17.204650534085253],\n",
       "  [0.0, 32.01562118716424, 32.01562118716424, 21.213203435596427],\n",
       "  [0.0, 32.802438933713454, 32.802438933713454, 32.01562118716424],\n",
       "  [0.0, 34.539832078341085, 34.539832078341085, 32.802438933713454]],\n",
       " 'ivl': ['x7', 'x2', 'x1', 'x6', 'x3', 'x4', 'x5'],\n",
       " 'leaves': [6, 1, 0, 5, 2, 3, 4],\n",
       " 'color_list': ['g', 'g', 'g', 'g', 'g', 'g']}"
      ]
     },
     "execution_count": 6,
     "metadata": {},
     "output_type": "execute_result"
    },
    {
     "data": {
      "image/png": "[encoded data removed]",
      "text/plain": [
       "<Figure size 432x288 with 1 Axes>"
      ]
     },
     "metadata": {
      "needs_background": "light"
     },
     "output_type": "display_data"
    }
   ],
   "source": [
    "# Plot the dendrogram\n",
    "fig, ax = plt.subplots()\n",
    "dendrogram(Z, labels = indexes, color_threshold=100)\n"
   ]
  },
  {
   "cell_type": "code",
   "execution_count": 7,
   "metadata": {},
   "outputs": [
    {
     "name": "stdout",
     "output_type": "stream",
     "text": [
      "[1 2 1 1 1 1 3]\n"
     ]
    }
   ],
   "source": [
    "# Get the labels for 3 clusters\n",
    "labels = fcluster(Z, 3, criterion='maxclust')\n",
    "print(labels)\n"
   ]
  },
  {
   "cell_type": "code",
   "execution_count": 8,
   "metadata": {},
   "outputs": [
    {
     "data": {
      "image/png": "[encoded data removed]",
      "text/plain": [
       "<Figure size 432x288 with 1 Axes>"
      ]
     },
     "metadata": {
      "needs_background": "light"
     },
     "output_type": "display_data"
    }
   ],
   "source": [
    "# Plot the data with labels\n",
    "fig, ax = plt.subplots()\n",
    "for index, row in data.iterrows():\n",
    "    ax.scatter(row['X'], row['Y'], color=['b', 'r', 'g'][labels[index] - 1])\n",
    "    ax.text(row['X'], row['Y'], \" x\" + str(index + 1))\n",
    "ax.set_xlabel('X')\n",
    "ax.set_ylabel('Y')\n",
    "plt.show()\n"
   ]
  },
  {
   "cell_type": "code",
   "execution_count": 1,
   "metadata": {},
   "outputs": [],
   "source": [
    "\n"
   ]
  }
 ],
 "metadata": {
  "kernelspec": {
   "display_name": "Python 3",
   "language": "python",
   "name": "python3"
  },
  "language_info": {
   "codemirror_mode": {
    "name": "ipython",
    "version": 3
   },
   "file_extension": ".py",
   "mimetype": "text/x-python",
   "name": "python",
   "nbconvert_exporter": "python",
   "pygments_lexer": "ipython3",
   "version": "3.6.6"
  }
 },
 "nbformat": 4,
 "nbformat_minor": 2
}
