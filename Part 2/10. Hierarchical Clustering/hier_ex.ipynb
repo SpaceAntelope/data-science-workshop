{
 "cells": [
  {
   "cell_type": "code",
   "execution_count": 1,
   "metadata": {},
   "outputs": [],
   "source": [
    "import pandas as pd\n",
    "import matplotlib.pyplot as plt\n",
    "from scipy.cluster.hierarchy import dendrogram, linkage, fcluster\n"
   ]
  },
  {
   "cell_type": "code",
   "execution_count": 5,
   "metadata": {},
   "outputs": [
    {
     "data": {
      "text/html": [
       "<div>\n",
       "<style scoped>\n",
       "    .dataframe tbody tr th:only-of-type {\n",
       "        vertical-align: middle;\n",
       "    }\n",
       "\n",
       "    .dataframe tbody tr th {\n",
       "        vertical-align: top;\n",
       "    }\n",
       "\n",
       "    .dataframe thead th {\n",
       "        text-align: right;\n",
       "    }\n",
       "</style>\n",
       "<table border=\"1\" class=\"dataframe\">\n",
       "  <thead>\n",
       "    <tr style=\"text-align: right;\">\n",
       "      <th></th>\n",
       "      <th>State</th>\n",
       "      <th>Y1960</th>\n",
       "      <th>Y1964</th>\n",
       "      <th>Y1968</th>\n",
       "      <th>Y1972</th>\n",
       "      <th>Y1976</th>\n",
       "    </tr>\n",
       "  </thead>\n",
       "  <tbody>\n",
       "    <tr>\n",
       "      <th>0</th>\n",
       "      <td>Alabama</td>\n",
       "      <td>41.75</td>\n",
       "      <td>69.5</td>\n",
       "      <td>14.0</td>\n",
       "      <td>72.4</td>\n",
       "      <td>43.48</td>\n",
       "    </tr>\n",
       "    <tr>\n",
       "      <th>1</th>\n",
       "      <td>Alaska</td>\n",
       "      <td>50.94</td>\n",
       "      <td>34.1</td>\n",
       "      <td>45.3</td>\n",
       "      <td>58.1</td>\n",
       "      <td>62.91</td>\n",
       "    </tr>\n",
       "    <tr>\n",
       "      <th>2</th>\n",
       "      <td>Arizona</td>\n",
       "      <td>55.52</td>\n",
       "      <td>50.4</td>\n",
       "      <td>54.8</td>\n",
       "      <td>64.7</td>\n",
       "      <td>58.62</td>\n",
       "    </tr>\n",
       "    <tr>\n",
       "      <th>3</th>\n",
       "      <td>Arkansas</td>\n",
       "      <td>43.06</td>\n",
       "      <td>43.9</td>\n",
       "      <td>30.8</td>\n",
       "      <td>68.9</td>\n",
       "      <td>34.97</td>\n",
       "    </tr>\n",
       "    <tr>\n",
       "      <th>4</th>\n",
       "      <td>California</td>\n",
       "      <td>50.10</td>\n",
       "      <td>40.9</td>\n",
       "      <td>47.8</td>\n",
       "      <td>55.0</td>\n",
       "      <td>50.89</td>\n",
       "    </tr>\n",
       "  </tbody>\n",
       "</table>\n",
       "</div>"
      ],
      "text/plain": [
       "        State  Y1960  Y1964  Y1968  Y1972  Y1976\n",
       "0     Alabama  41.75   69.5   14.0   72.4  43.48\n",
       "1      Alaska  50.94   34.1   45.3   58.1  62.91\n",
       "2     Arizona  55.52   50.4   54.8   64.7  58.62\n",
       "3    Arkansas  43.06   43.9   30.8   68.9  34.97\n",
       "4  California  50.10   40.9   47.8   55.0  50.89"
      ]
     },
     "execution_count": 5,
     "metadata": {},
     "output_type": "execute_result"
    }
   ],
   "source": [
    "# Read the data\n",
    "data = pd.read_csv(\"votes_repub.csv\", sep=';')\n",
    "countries = data.iloc[:, 0].tolist()\n",
    "X = data.iloc[:, 1:]\n",
    "data.head()"
   ]
  },
  {
   "cell_type": "code",
   "execution_count": 3,
   "metadata": {},
   "outputs": [],
   "source": [
    "# Apply hierarchical clustering\n",
    "Z = linkage(X, method='complete')\n"
   ]
  },
  {
   "cell_type": "code",
   "execution_count": 4,
   "metadata": {},
   "outputs": [
    {
     "data": {
      "image/png": "[encoded data removed]",
      "text/plain": [
       "<Figure size 432x288 with 1 Axes>"
      ]
     },
     "metadata": {
      "needs_background": "light"
     },
     "output_type": "display_data"
    }
   ],
   "source": [
    "# Plot the dendrogram given a threshold\n",
    "threshold = 30 # alternatively use the number of clusters, i.e. k = 6, and then threshold = Z[-(k-1), 2]\n",
    "fig, ax = plt.subplots()\n",
    "dendrogram(Z, labels = countries, color_threshold = threshold)\n",
    "ax.axhline(y = threshold, c = 'k')\n",
    "fig.subplots_adjust(bottom=0.25)\n"
   ]
  },
  {
   "cell_type": "code",
   "execution_count": 1,
   "metadata": {},
   "outputs": [],
   "source": [
    "# Print the labels given the same threshold\n",
    "labels = fcluster(Z, threshold, criterion='distance') # or fcluster(Z, k, criterion='maxclust')\n",
    "print(labels)\n"
   ]
  },
  {
   "cell_type": "code",
   "execution_count": 1,
   "metadata": {},
   "outputs": [],
   "source": [
    "plt.show()\n",
    "\n"
   ]
  }
 ],
 "metadata": {
  "kernelspec": {
   "display_name": "Python 3",
   "language": "python",
   "name": "python3"
  },
  "language_info": {
   "codemirror_mode": {
    "name": "ipython",
    "version": 3
   },
   "file_extension": ".py",
   "mimetype": "text/x-python",
   "name": "python",
   "nbconvert_exporter": "python",
   "pygments_lexer": "ipython3",
   "version": "3.6.6"
  }
 },
 "nbformat": 4,
 "nbformat_minor": 2
}
