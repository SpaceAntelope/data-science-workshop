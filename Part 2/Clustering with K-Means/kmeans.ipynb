{
 "cells": [
    {
    "cell_type": "code",
    "execution_count": 1,
    "metadata": {},
    "outputs": [],
    "source": [
        "import numpy as np\n",
"import pandas as pd\n",
"import matplotlib.pyplot as plt\n",
"from sklearn.cluster import KMeans\n",
"from sklearn.metrics import silhouette_samples, silhouette_score\n"
    ]
    },

    {
    "cell_type": "code",
    "execution_count": 1,
    "metadata": {},
    "outputs": [],
    "source": [
        "# Read data\n",
"kdata = pd.read_csv(\"gre.csv\", sep=';')\n"
    ]
    },

    {
    "cell_type": "code",
    "execution_count": 1,
    "metadata": {},
    "outputs": [],
    "source": [
        "# Plot the data\n",
"fig, ax = plt.subplots()\n",
"ax.scatter(kdata.iloc[:, 0], kdata.iloc[:, 1])\n",
"plt.xlabel(kdata.columns.values[0])\n",
"plt.ylabel(kdata.columns.values[1])\n",
"plt.show()\n"
    ]
    },

    {
    "cell_type": "code",
    "execution_count": 1,
    "metadata": {},
    "outputs": [],
    "source": [
        "# Apply kmeans\n",
"kmeans = KMeans(n_clusters=3)\n",
"kmeans.fit_predict(kdata)\n",
"labels = kmeans.labels_\n",
"centers = kmeans.cluster_centers_\n"
    ]
    },

    {
    "cell_type": "code",
    "execution_count": 1,
    "metadata": {},
    "outputs": [],
    "source": [
        "# Plot clustering result\n",
"fig, ax = plt.subplots()\n",
"ax.scatter(kdata.iloc[:, 0], kdata.iloc[:, 1], c=labels)\n",
"centers = kmeans.cluster_centers_\n",
"plt.scatter(centers[:, 0], centers[:, 1], c='black', marker='+', s=100);\n",
"plt.xlabel(kdata.columns.values[0])\n",
"plt.ylabel(kdata.columns.values[1])\n"
    ]
    },

    {
    "cell_type": "code",
    "execution_count": 1,
    "metadata": {},
    "outputs": [],
    "source": [
        "# Silhouette\n",
"silhouette = silhouette_score(kdata, labels)\n",
"print(silhouette)\n"
    ]
    },

    {
    "cell_type": "code",
    "execution_count": 1,
    "metadata": {},
    "outputs": [],
    "source": [
        "# Silhouette plot\n",
"silhouette_values = silhouette_samples(kdata, labels)\n",
"fig, ax = plt.subplots()\n",
"y_lower = 10\n",
"for i in range(len(centers)):\n",
"    ith_cluster_silhouette_values = silhouette_values[labels == i]\n",
"    ith_cluster_silhouette_values.sort()\n",
"    size_cluster_i = ith_cluster_silhouette_values.shape[0]\n",
"    y_upper = y_lower + size_cluster_i\n",
"    ax.fill_betweenx(np.arange(y_lower, y_upper), 0, ith_cluster_silhouette_values)\n",
"    ax.text(-0.025, y_lower + 0.5 * size_cluster_i, str(i))\n",
"    y_lower = y_upper + 10\n",
"ax.axvline(x=silhouette, color=\"red\", linestyle=\"--\")\n",
"ax.set_yticks([])\n"
    ]
    },

    {
    "cell_type": "code",
    "execution_count": 1,
    "metadata": {},
    "outputs": [],
    "source": [
        "# Select number of clusters\n",
"fig, ax = plt.subplots()\n",
"cluster_nums = [2, 3, 4, 5, 6, 7, 8]\n",
"silhouettes = []\n",
"for n_clusters in cluster_nums:\n",
"    kmeans = KMeans(n_clusters=n_clusters)\n",
"    kmeans.fit_predict(kdata)\n",
"    labels = kmeans.labels_\n",
"    silhouettes.append(silhouette_score(kdata, labels))\n",
"ax.plot(cluster_nums, silhouettes)\n",
"ax.set_xlabel(\"Number of clusters\")\n",
"ax.set_ylabel(\"Silhouette\")\n",
"\n",
"plt.show()\n",
"\n"
    ]
    }],
 "metadata": {
  "kernelspec": {
   "display_name": "Python 3",
   "language": "python",
   "name": "python3"
  },
  "language_info": {
   "codemirror_mode": {
    "name": "ipython",
    "version": 3
   },
   "file_extension": ".py",
   "mimetype": "text/x-python",
   "name": "python",
   "nbconvert_exporter": "python",
   "pygments_lexer": "ipython3",
   "version": "3.6.6"
  }
 },
 "nbformat": 4,
 "nbformat_minor": 2
}
