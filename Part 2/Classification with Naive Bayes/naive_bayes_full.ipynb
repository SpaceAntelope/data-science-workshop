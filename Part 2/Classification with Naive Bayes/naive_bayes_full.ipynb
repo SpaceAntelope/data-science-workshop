{
 "cells": [
    {
    "cell_type": "code",
    "execution_count": 1,
    "metadata": {},
    "outputs": [],
    "source": [
        "import numpy as np\n",
"import pandas as pd\n",
"import matplotlib.pyplot as plt\n",
"from sklearn.naive_bayes import GaussianNB\n",
"from sklearn.model_selection import train_test_split\n",
"from sklearn.metrics import classification_report, confusion_matrix, roc_curve, precision_recall_curve, auc\n"
    ]
    },

    {
    "cell_type": "code",
    "execution_count": 1,
    "metadata": {},
    "outputs": [],
    "source": [
        "# Read the data\n",
"data = pd.read_csv(\"trafficfull.csv\", sep=';')\n",
"X = data.iloc[:, 0:-1]\n",
"y = data.iloc[:, -1]\n"
    ]
    },

    {
    "cell_type": "code",
    "execution_count": 1,
    "metadata": {},
    "outputs": [],
    "source": [
        "# Plot the data\n",
"fig, ax = plt.subplots()\n",
"groups = data.groupby('HighTraffic')\n",
"for name, group in groups:\n",
"    ax.plot(group.iloc[:, 0], group.iloc[:, 1], marker='o', linestyle='', label=name)\n",
"ax.set_xlabel('Temperature')\n",
"ax.set_ylabel('Wind')\n",
"ax.legend()\n"
    ]
    },

    {
    "cell_type": "code",
    "execution_count": 1,
    "metadata": {},
    "outputs": [],
    "source": [
        "# Split the data\n",
"X_train, X_test, y_train, y_test = train_test_split(X, y, test_size=0.20, random_state=42)\n"
    ]
    },

    {
    "cell_type": "code",
    "execution_count": 1,
    "metadata": {},
    "outputs": [],
    "source": [
        "# Train the model\n",
"model = GaussianNB()\n",
"model.fit(X_train, y_train)\n"
    ]
    },

    {
    "cell_type": "code",
    "execution_count": 1,
    "metadata": {},
    "outputs": [],
    "source": [
        "# Evaluate the model\n",
"y_pred = model.predict(X_test)\n",
"y_pred_prob = model.predict_proba(X_test)\n",
"print(confusion_matrix(y_test, y_pred))\n",
"print(classification_report(y_test, y_pred))\n"
    ]
    },

    {
    "cell_type": "code",
    "execution_count": 1,
    "metadata": {},
    "outputs": [],
    "source": [
        "# Plot the Precision Recall Curve\n",
"#precision, recall, thresholds = precision_recall_curve(y_test, y_pred_prob[:, 1])\n",
"#precision = np.insert(precision, 0, 0)\n",
"#recall = np.insert(recall, 0, 1)\n",
"#plt.plot(precision, recall, 'b')\n",
"#plt.ylabel('Precision')\n",
"#plt.xlabel('Recall')\n",
"#plt.show()\n"
    ]
    },

    {
    "cell_type": "code",
    "execution_count": 1,
    "metadata": {},
    "outputs": [],
    "source": [
        "# Plot the ROC curve\n",
"fpr, tpr, threshold = roc_curve(y_test, y_pred_prob[:, 1])\n",
"plt.figure()\n",
"plt.plot(fpr, tpr, 'b')\n",
"plt.plot([0, 1], [0, 1],'r--')\n",
"plt.ylabel('True Positive Rate')\n",
"plt.xlabel('False Positive Rate')\n",
"plt.show()\n",
"print(auc(fpr, tpr)) # print the AUC\n",
"\n"
    ]
    }],
 "metadata": {
  "kernelspec": {
   "display_name": "Python 3",
   "language": "python",
   "name": "python3"
  },
  "language_info": {
   "codemirror_mode": {
    "name": "ipython",
    "version": 3
   },
   "file_extension": ".py",
   "mimetype": "text/x-python",
   "name": "python",
   "nbconvert_exporter": "python",
   "pygments_lexer": "ipython3",
   "version": "3.6.6"
  }
 },
 "nbformat": 4,
 "nbformat_minor": 2
}
