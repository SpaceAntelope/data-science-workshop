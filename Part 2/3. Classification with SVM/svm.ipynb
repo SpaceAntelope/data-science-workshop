{
 "cells": [
    {
    "cell_type": "code",
    "execution_count": 1,
    "metadata": {},
    "outputs": [],
    "source": [
        "import numpy as np\n",
"import pandas as pd\n",
"from sklearn.svm import SVC\n",
"import matplotlib.pyplot as plt\n",
"from sklearn.metrics import accuracy_score\n",
"from sklearn.model_selection import train_test_split, cross_val_score\n"
    ]
    },

    {
    "cell_type": "code",
    "execution_count": 1,
    "metadata": {},
    "outputs": [],
    "source": [
        "# Read the data\n",
"data = pd.read_csv(\"loans.csv\", sep=';')\n",
"columns = data.columns.values\n",
"X = data.iloc[:, 0:2]\n",
"y = data.iloc[:, 2]\n"
    ]
    },

    {
    "cell_type": "code",
    "execution_count": 1,
    "metadata": {},
    "outputs": [],
    "source": [
        "# Split to training set and test set\n",
"X_train, X_test, y_train, y_test = train_test_split(X, y, test_size=0.20, random_state=42)\n",
"traindata = pd.DataFrame(data=np.c_[X_train, y_train], columns=columns)\n"
    ]
    },

    {
    "cell_type": "code",
    "execution_count": 1,
    "metadata": {},
    "outputs": [],
    "source": [
        "# Plot data\n",
"fig, ax = plt.subplots()\n",
"groups = traindata.groupby(columns[2])\n",
"for name, group in groups:\n",
"    ax.plot(group.iloc[:, 0], group.iloc[:, 1], marker='o', linestyle='', label=name)\n",
"ax.set_xlabel(columns[0])\n",
"ax.set_ylabel(columns[1])\n",
"ax.legend()\n"
    ]
    },

    {
    "cell_type": "code",
    "execution_count": 1,
    "metadata": {},
    "outputs": [],
    "source": [
        "# Create meshgrid\n",
"x0_min, x0_max = X.iloc[:, 0].min() - 1, X.iloc[:, 0].max() + 1\n",
"x1_min, x1_max = X.iloc[:, 1].min() - 1, X.iloc[:, 1].max() + 1\n",
"x0, x1 = np.meshgrid(np.arange(x0_min, x0_max, 0.02), np.arange(x1_min, x1_max, 0.02))\n"
    ]
    },

    {
    "cell_type": "code",
    "execution_count": 1,
    "metadata": {},
    "outputs": [],
    "source": [
        "# RBF kernel with gamma 1\n",
"model = SVC(kernel='rbf', gamma=1, C=1.0)\n",
"model.fit(X_train, y_train)\n",
"Z = model.predict(np.c_[x0.ravel(), x1.ravel()])\n",
"Z = Z.reshape(x0.shape)\n",
"CS = ax.contour(x0, x1, Z, colors=['blue'])\n",
"labels = ax.clabel(CS, fmt=\"gamma=1\")\n"
    ]
    },

    {
    "cell_type": "code",
    "execution_count": 1,
    "metadata": {},
    "outputs": [],
    "source": [
        "# RBF kernel with gamma 0.01\n",
"model = SVC(kernel='rbf', gamma=0.01, C=1.0)\n",
"model.fit(X_train, y_train)\n",
"Z = model.predict(np.c_[x0.ravel(), x1.ravel()])\n",
"Z = Z.reshape(x0.shape)\n",
"CS = ax.contour(x0, x1, Z, colors=['red'])\n",
"labels = ax.clabel(CS, fmt=\"gamma=0.01\")\n"
    ]
    },

    {
    "cell_type": "code",
    "execution_count": 1,
    "metadata": {},
    "outputs": [],
    "source": [
        "# RBF kernel with gamma 100\n",
"model = SVC(kernel='rbf', gamma=100, C=1.0)\n",
"model.fit(X_train, y_train)\n",
"Z = model.predict(np.c_[x0.ravel(), x1.ravel()])\n",
"Z = Z.reshape(x0.shape)\n",
"CS = ax.contour(x0, x1, Z, colors=['gray'])\n",
"labels = ax.clabel(CS, fmt=\"gamma=100\")\n"
    ]
    },

    {
    "cell_type": "code",
    "execution_count": 1,
    "metadata": {},
    "outputs": [],
    "source": [
        "# Find training and testing error\n",
"gammavalues = [0.01, 0.1, 1, 10, 100, 1000, 10000, 100000, 1000000]\n",
"trainingerror, testingerror = [], []\n",
"for gamma in gammavalues:\n",
"    model = SVC(kernel='rbf', gamma=gamma, C=1.0)\n",
"    model.fit(X_train, y_train)\n",
"    trainingerror.append(1 - accuracy_score(y_train, model.predict(X_train)))\n",
"    testingerror.append(1 - accuracy_score(y_test, model.predict(X_test)))\n"
    ]
    },

    {
    "cell_type": "code",
    "execution_count": 1,
    "metadata": {},
    "outputs": [],
    "source": [
        "# Plot training and testing error\n",
"fig, ax = plt.subplots()\n",
"ax.plot(trainingerror, label=\"Training Error\")\n",
"ax.plot(testingerror, label=\"Testing Error\")\n",
"ax.set_xticks(range(len(gammavalues)))\n",
"ax.set_xticklabels(gammavalues)\n",
"ax.set_xlabel(\"gamma\")\n",
"ax.legend()\n"
    ]
    },

    {
    "cell_type": "code",
    "execution_count": 1,
    "metadata": {},
    "outputs": [],
    "source": [
        "# Find best gamma using cross validation\n",
"accuracies = []\n",
"for gamma in gammavalues:\n",
"    model = SVC(kernel='rbf', gamma=gamma, C=1.0)\n",
"    scores = cross_val_score(model, X_train, y_train, cv=10)\n",
"    accuracies.append(np.mean(scores))\n"
    ]
    },

    {
    "cell_type": "code",
    "execution_count": 1,
    "metadata": {},
    "outputs": [],
    "source": [
        "# Plot accuracy vs gamma\n",
"fig, ax = plt.subplots()\n",
"ax.plot(accuracies)\n",
"ax.set_xticks(range(len(gammavalues)))\n",
"ax.set_xticklabels(gammavalues)\n",
"ax.set_xlabel(\"gamma\")\n",
"ax.set_ylabel(\"Accuracy\")\n"
    ]
    },

    {
    "cell_type": "code",
    "execution_count": 1,
    "metadata": {},
    "outputs": [],
    "source": [
        "plt.show()\n"
    ]
    },

    {
    "cell_type": "code",
    "execution_count": 1,
    "metadata": {},
    "outputs": [],
    "source": [
        "\n"
    ]
    }],
 "metadata": {
  "kernelspec": {
   "display_name": "Python 3",
   "language": "python",
   "name": "python3"
  },
  "language_info": {
   "codemirror_mode": {
    "name": "ipython",
    "version": 3
   },
   "file_extension": ".py",
   "mimetype": "text/x-python",
   "name": "python",
   "nbconvert_exporter": "python",
   "pygments_lexer": "ipython3",
   "version": "3.6.6"
  }
 },
 "nbformat": 4,
 "nbformat_minor": 2
}
