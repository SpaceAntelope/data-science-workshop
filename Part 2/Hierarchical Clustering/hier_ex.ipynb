{
 "cells": [
    {
    "cell_type": "code",
    "execution_count": 1,
    "metadata": {},
    "outputs": [],
    "source": [
        "import pandas as pd\n",
"import matplotlib.pyplot as plt\n",
"from scipy.cluster.hierarchy import dendrogram, linkage, fcluster\n"
    ]
    },

    {
    "cell_type": "code",
    "execution_count": 1,
    "metadata": {},
    "outputs": [],
    "source": [
        "# Read the data\n",
"data = pd.read_csv(\"votes_repub.csv\", sep=';')\n",
"countries = data.iloc[:, 0].tolist()\n",
"X = data.iloc[:, 1:]\n"
    ]
    },

    {
    "cell_type": "code",
    "execution_count": 1,
    "metadata": {},
    "outputs": [],
    "source": [
        "# Apply hierarchical clustering\n",
"Z = linkage(X, method='complete')\n"
    ]
    },

    {
    "cell_type": "code",
    "execution_count": 1,
    "metadata": {},
    "outputs": [],
    "source": [
        "# Plot the dendrogram given a threshold\n",
"threshold = 30 # alternatively use the number of clusters, i.e. k = 6, and then threshold = Z[-(k-1), 2]\n",
"fig, ax = plt.subplots()\n",
"dendrogram(Z, labels = countries, color_threshold = threshold)\n",
"ax.axhline(y = threshold, c = 'k')\n",
"fig.subplots_adjust(bottom=0.25)\n"
    ]
    },

    {
    "cell_type": "code",
    "execution_count": 1,
    "metadata": {},
    "outputs": [],
    "source": [
        "# Print the labels given the same threshold\n",
"labels = fcluster(Z, threshold, criterion='distance') # or fcluster(Z, k, criterion='maxclust')\n",
"print(labels)\n"
    ]
    },

    {
    "cell_type": "code",
    "execution_count": 1,
    "metadata": {},
    "outputs": [],
    "source": [
        "plt.show()\n",
"\n"
    ]
    }],
 "metadata": {
  "kernelspec": {
   "display_name": "Python 3",
   "language": "python",
   "name": "python3"
  },
  "language_info": {
   "codemirror_mode": {
    "name": "ipython",
    "version": 3
   },
   "file_extension": ".py",
   "mimetype": "text/x-python",
   "name": "python",
   "nbconvert_exporter": "python",
   "pygments_lexer": "ipython3",
   "version": "3.6.6"
  }
 },
 "nbformat": 4,
 "nbformat_minor": 2
}
