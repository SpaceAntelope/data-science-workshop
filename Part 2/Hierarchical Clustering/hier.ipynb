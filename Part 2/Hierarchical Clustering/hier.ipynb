{
 "cells": [
    {
    "cell_type": "code",
    "execution_count": 1,
    "metadata": {},
    "outputs": [],
    "source": [
        "import numpy as np\n",
"import pandas as pd\n",
"import matplotlib.pyplot as plt\n",
"from scipy.cluster.hierarchy import dendrogram, linkage, fcluster\n"
    ]
    },

    {
    "cell_type": "code",
    "execution_count": 1,
    "metadata": {},
    "outputs": [],
    "source": [
        "# Read the data\n",
"X = np.array([[50,30], [24,10], [85,70], [71,80], [60,78], [70,55], [28,91]])\n",
"data = pd.read_csv(\"data.csv\", sep=';')\n",
"indexes = [\"x\" + str(i + 1) for i in range(len(data))]\n"
    ]
    },

    {
    "cell_type": "code",
    "execution_count": 1,
    "metadata": {},
    "outputs": [],
    "source": [
        "# Plot the data with labels\n",
"fig, ax = plt.subplots()\n",
"for index, row in data.iterrows():\n",
"    ax.scatter(row['X'], row['Y'], color='b')\n",
"    ax.text(row['X'], row['Y'], \" x\" + str(index + 1))\n",
"ax.set_xlabel('X')\n",
"ax.set_ylabel('Y')\n"
    ]
    },

    {
    "cell_type": "code",
    "execution_count": 1,
    "metadata": {},
    "outputs": [],
    "source": [
        "# Apply hierarchical clustering\n",
"Z = linkage(X, method='single') # or complete\n"
    ]
    },

    {
    "cell_type": "code",
    "execution_count": 1,
    "metadata": {},
    "outputs": [],
    "source": [
        "# Plot the dendrogram\n",
"fig, ax = plt.subplots()\n",
"dendrogram(Z, labels = indexes, color_threshold=100)\n"
    ]
    },

    {
    "cell_type": "code",
    "execution_count": 1,
    "metadata": {},
    "outputs": [],
    "source": [
        "# Get the labels for 3 clusters\n",
"labels = fcluster(Z, 3, criterion='maxclust')\n",
"print(labels)\n"
    ]
    },

    {
    "cell_type": "code",
    "execution_count": 1,
    "metadata": {},
    "outputs": [],
    "source": [
        "# Plot the data with labels\n",
"fig, ax = plt.subplots()\n",
"for index, row in data.iterrows():\n",
"    ax.scatter(row['X'], row['Y'], color=['b', 'r', 'g'][labels[index] - 1])\n",
"    ax.text(row['X'], row['Y'], \" x\" + str(index + 1))\n",
"ax.set_xlabel('X')\n",
"ax.set_ylabel('Y')\n",
"plt.show()\n"
    ]
    },

    {
    "cell_type": "code",
    "execution_count": 1,
    "metadata": {},
    "outputs": [],
    "source": [
        "\n"
    ]
    }],
 "metadata": {
  "kernelspec": {
   "display_name": "Python 3",
   "language": "python",
   "name": "python3"
  },
  "language_info": {
   "codemirror_mode": {
    "name": "ipython",
    "version": 3
   },
   "file_extension": ".py",
   "mimetype": "text/x-python",
   "name": "python",
   "nbconvert_exporter": "python",
   "pygments_lexer": "ipython3",
   "version": "3.6.6"
  }
 },
 "nbformat": 4,
 "nbformat_minor": 2
}
