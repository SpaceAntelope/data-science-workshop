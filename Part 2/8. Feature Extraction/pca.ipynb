{
 "cells": [
    {
    "cell_type": "code",
    "execution_count": 1,
    "metadata": {},
    "outputs": [],
    "source": [
        "import numpy as np\n",
"import pandas as pd\n",
"from sklearn import datasets\n",
"import matplotlib.pyplot as plt\n",
"from sklearn.decomposition import PCA\n",
"from mpl_toolkits.mplot3d import Axes3D\n"
    ]
    },

    {
    "cell_type": "code",
    "execution_count": 1,
    "metadata": {},
    "outputs": [],
    "source": [
        "# Read data\n",
"pdata = pd.read_csv(\"pdata.csv\", sep=';')\n"
    ]
    },

    {
    "cell_type": "code",
    "execution_count": 1,
    "metadata": {},
    "outputs": [],
    "source": [
        "# Plot data\n",
"fig = plt.figure()\n",
"ax = Axes3D(fig)\n",
"for index, row in pdata.iterrows():\n",
"    ax.scatter(row['X'], row['Y'], row['Z'], color='b')\n",
"    ax.text(row['X'], row['Y'], row['Z'], \" x\" + str(index + 1))\n",
"ax.set_xlabel('X')\n",
"ax.set_ylabel('Y')\n",
"ax.set_zlabel('Z')\n"
    ]
    },

    {
    "cell_type": "code",
    "execution_count": 1,
    "metadata": {},
    "outputs": [],
    "source": [
        "# Apply principal component analysis\n",
"pca = PCA(n_components=2)\n",
"pca.fit(pdata)\n",
"print(pca.explained_variance_ratio_)\n"
    ]
    },

    {
    "cell_type": "code",
    "execution_count": 1,
    "metadata": {},
    "outputs": [],
    "source": [
        "# Transform the data\n",
"pdata_transformed = pca.transform(pdata)\n",
"pdata_transformed = pd.DataFrame(data={'PC1': pdata_transformed[:, 0], 'PC2': pdata_transformed[:, 1]})\n"
    ]
    },

    {
    "cell_type": "code",
    "execution_count": 1,
    "metadata": {},
    "outputs": [],
    "source": [
        "# Plot data\n",
"fig, ax = plt.subplots()\n",
"for index, row in pdata_transformed.iterrows():\n",
"    ax.scatter(row['PC1'], row['PC2'], color='b')\n",
"    ax.text(row['PC1'], row['PC2'], \" x\" + str(index + 1))\n",
"ax.set_xlabel('PC1')\n",
"ax.set_xlabel('PC2')\n",
"plt.show()\n",
"\n"
    ]
    }],
 "metadata": {
  "kernelspec": {
   "display_name": "Python 3",
   "language": "python",
   "name": "python3"
  },
  "language_info": {
   "codemirror_mode": {
    "name": "ipython",
    "version": 3
   },
   "file_extension": ".py",
   "mimetype": "text/x-python",
   "name": "python",
   "nbconvert_exporter": "python",
   "pygments_lexer": "ipython3",
   "version": "3.6.6"
  }
 },
 "nbformat": 4,
 "nbformat_minor": 2
}
