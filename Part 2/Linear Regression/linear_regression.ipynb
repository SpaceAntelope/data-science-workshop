{
 "cells": [
    {
    "cell_type": "code",
    "execution_count": 1,
    "metadata": {},
    "outputs": [],
    "source": [
        "import pandas as pd\n",
"from math import sqrt\n",
"import matplotlib.pyplot as plt\n",
"from sklearn.linear_model import LinearRegression\n",
"from sklearn.model_selection import train_test_split\n",
"from sklearn.metrics import mean_absolute_error, mean_squared_error, r2_score\n"
    ]
    },

    {
    "cell_type": "code",
    "execution_count": 1,
    "metadata": {},
    "outputs": [],
    "source": [
        "# Read data\n",
"data = pd.read_csv(\"houses.csv\", sep=';')\n",
"X = data.iloc[:, 0].values.reshape(-1, 1)\n",
"y = data.iloc[:, 1]\n"
    ]
    },

    {
    "cell_type": "code",
    "execution_count": 1,
    "metadata": {},
    "outputs": [],
    "source": [
        "# Fit model to data\n",
"model = LinearRegression()\n",
"model.fit(X, y)\n",
"y_pred = model.predict(X)\n"
    ]
    },

    {
    "cell_type": "code",
    "execution_count": 1,
    "metadata": {},
    "outputs": [],
    "source": [
        "# Plot data and model\n",
"fig, ax = plt.subplots()\n",
"ax.scatter(X, y, color='black')\n",
"ax.plot(X, y_pred, color='blue', linewidth=3)\n",
"ax.set_xlabel(data.columns.values[0])\n",
"ax.set_ylabel(data.columns.values[1])\n",
"#plt.show()\n"
    ]
    },

    {
    "cell_type": "code",
    "execution_count": 1,
    "metadata": {},
    "outputs": [],
    "source": [
        "# Show equation\n",
"print('Equation: y = %.2f + %.2f * x' %(model.intercept_, model.coef_))\n"
    ]
    },

    {
    "cell_type": "code",
    "execution_count": 1,
    "metadata": {},
    "outputs": [],
    "source": [
        "# Calculate metrics\n",
"print(\"Mean Absolute Error: %.2f\" %mean_absolute_error(y, y_pred))\n",
"print(\"Mean Squared Error: %.2f\" %mean_squared_error(y, y_pred))\n",
"print(\"Root Mean Squared Error: %.2f\" %sqrt(mean_squared_error(y, y_pred)))\n",
"print(\"Coefficient of Determination: %.2f\" %r2_score(y, y_pred))\n",
"\n"
    ]
    }],
 "metadata": {
  "kernelspec": {
   "display_name": "Python 3",
   "language": "python",
   "name": "python3"
  },
  "language_info": {
   "codemirror_mode": {
    "name": "ipython",
    "version": 3
   },
   "file_extension": ".py",
   "mimetype": "text/x-python",
   "name": "python",
   "nbconvert_exporter": "python",
   "pygments_lexer": "ipython3",
   "version": "3.6.6"
  }
 },
 "nbformat": 4,
 "nbformat_minor": 2
}
