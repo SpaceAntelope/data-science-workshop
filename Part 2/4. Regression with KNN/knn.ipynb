{
 "cells": [
    {
    "cell_type": "code",
    "execution_count": 1,
    "metadata": {},
    "outputs": [],
    "source": [
        "import pandas as pd\n",
"import numpy as np\n",
"import matplotlib.pyplot as plt\n",
"from sklearn.neighbors import KNeighborsClassifier\n",
"from sklearn.model_selection import train_test_split\n",
"from sklearn.metrics import classification_report, confusion_matrix\n"
    ]
    },

    {
    "cell_type": "code",
    "execution_count": 1,
    "metadata": {},
    "outputs": [],
    "source": [
        "# Read the data\n",
"data = pd.read_csv(\"salary.csv\", sep=';')\n",
"X = data.iloc[:, 0:-1]\n",
"y = data.iloc[:, -1]\n"
    ]
    },

    {
    "cell_type": "code",
    "execution_count": 1,
    "metadata": {},
    "outputs": [],
    "source": [
        "# Convert problem to classification\n",
"y = np.digitize(y, [1500])\n",
"data.iloc[:, -1] = y\n"
    ]
    },

    {
    "cell_type": "code",
    "execution_count": 1,
    "metadata": {},
    "outputs": [],
    "source": [
        "# Plot the data\n",
"fig, ax = plt.subplots()\n",
"groups = data.groupby('Salary')\n",
"for name, group in groups:\n",
"    ax.plot(group.iloc[:, 0], group.iloc[:, 1], marker='o', linestyle='', label=name)\n",
"ax.set_xlabel(data.columns.values[0])\n",
"ax.set_ylabel(data.columns.values[1])\n",
"ax.legend()\n",
"plt.show()\n"
    ]
    },

    {
    "cell_type": "code",
    "execution_count": 1,
    "metadata": {},
    "outputs": [],
    "source": [
        "# Split to training and testing sets\n",
"X_train, X_test, y_train, y_test = train_test_split(X, y, test_size=0.20, random_state=42)\n"
    ]
    },

    {
    "cell_type": "code",
    "execution_count": 1,
    "metadata": {},
    "outputs": [],
    "source": [
        "# Train the model\n",
"model = KNeighborsClassifier(n_neighbors=4)\n",
"model.fit(X_train, y_train)\n"
    ]
    },

    {
    "cell_type": "code",
    "execution_count": 1,
    "metadata": {},
    "outputs": [],
    "source": [
        "# Evaluate the model\n",
"y_pred = model.predict(X_test)\n",
"print(confusion_matrix(y_test, y_pred))\n",
"print(classification_report(y_test, y_pred))\n",
"\n"
    ]
    }],
 "metadata": {
  "kernelspec": {
   "display_name": "Python 3",
   "language": "python",
   "name": "python3"
  },
  "language_info": {
   "codemirror_mode": {
    "name": "ipython",
    "version": 3
   },
   "file_extension": ".py",
   "mimetype": "text/x-python",
   "name": "python",
   "nbconvert_exporter": "python",
   "pygments_lexer": "ipython3",
   "version": "3.6.6"
  }
 },
 "nbformat": 4,
 "nbformat_minor": 2
}
