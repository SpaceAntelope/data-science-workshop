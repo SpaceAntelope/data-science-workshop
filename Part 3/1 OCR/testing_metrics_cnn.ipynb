{
 "cells": [
    {
    "cell_type": "code",
    "execution_count": 1,
    "metadata": {},
    "outputs": [],
    "source": [
        "# Import basic libraries and keras\n",
"import numpy as np\n",
"from keras.models import load_model\n",
"\n",
"# Load the model\n",
"model = load_model('cnn_model.h5')\n",
"\n",
"# Read the MNIST data and get test\n",
"f = np.load('mnist.npz')\n",
"x_test, y_test = f['x_test'], f['y_test']\n",
"f.close()\n",
"\n",
"# Process the images as in training\n",
"x_test = x_test.reshape(x_test.shape[0], 28, 28, 1)\n",
"x_test = x_test.astype('float32')\n",
"x_test /= 255\n",
"\n",
"# Make predictions\n",
"predictions = model.predict_classes(x_test, verbose=0)\n",
"correct_indices = np.nonzero(predictions == y_test)[0]\n",
"incorrect_indices = np.nonzero(predictions != y_test)[0]\n",
"print(\"Correct: %d\" %len(correct_indices))\n",
"print(\"Incorrect: %d\" %len(incorrect_indices))\n",
"\n",
"# Optionally plot some images\n",
"#import matplotlib.pyplot as plt\n",
"#plt.figure()\n",
"#for i, correct in enumerate(correct_indices[:9]):\n",
"#    plt.subplot(3,3,i+1)\n",
"#    plt.tight_layout()\n",
"#    plt.imshow(x_test[correct].reshape(28,28), cmap='gray', interpolation='none')\n",
"#    plt.title(\"Predicted {}, Class {}\".format(predictions[correct], y_test[correct]))\n",
"#\n",
"#plt.figure()\n",
"#for i, incorrect in enumerate(incorrect_indices[:9]):\n",
"#    plt.subplot(3,3,i+1)\n",
"#    plt.tight_layout()\n",
"#    plt.imshow(x_test[incorrect].reshape(28,28), cmap='gray', interpolation='none')\n",
"#    plt.title(\"Predicted {}, Class {}\".format(predictions[incorrect], y_test[incorrect]))\n",
"\n",
"\n"
    ]
    }],
 "metadata": {
  "kernelspec": {
   "display_name": "Python 3",
   "language": "python",
   "name": "python3"
  },
  "language_info": {
   "codemirror_mode": {
    "name": "ipython",
    "version": 3
   },
   "file_extension": ".py",
   "mimetype": "text/x-python",
   "name": "python",
   "nbconvert_exporter": "python",
   "pygments_lexer": "ipython3",
   "version": "3.6.6"
  }
 },
 "nbformat": 4,
 "nbformat_minor": 2
}
