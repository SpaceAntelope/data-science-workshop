{
 "cells": [
    {
    "cell_type": "code",
    "execution_count": 1,
    "metadata": {},
    "outputs": [],
    "source": [
        "# Import basic libraries and keras\n",
"import json\n",
"from keras.models import load_model\n",
"from keras.preprocessing.text import Tokenizer\n",
"from keras.preprocessing.sequence import pad_sequences\n",
"\n",
"# Load the model, either 'cnn_model.h5' or 'lstm_model.h5'\n",
"model = load_model('cnn_model.h5')\n",
"\n",
"# Load the dictionary and the model\n",
"with open('dictionary.json', 'r') as dictionary_file:\n",
"    dictionary = json.load(dictionary_file)\n",
"\n",
"tokenizer = Tokenizer(num_words=3000)\n",
"tokenizer.word_index = dictionary\n",
"while 1:\n",
"    text = input('Input a sentence to evaluate its sentiment, or press enter to quit: ')\n",
"    if len(text) == 0:\n",
"        break\n",
"    # Make the prediction\n",
"    sequences = tokenizer.texts_to_sequences([text])\n",
"    padded_sequences = pad_sequences(sequences, maxlen=300)\n",
"    pred = model.predict(padded_sequences)\n",
"    print(\"The sentiment is %s (confidence: %.2f%%)\" % (\"positive\" if pred > 0.5 else \"negative\", 100 * max(pred, 1 - pred)))\n",
"\n"
    ]
    }],
 "metadata": {
  "kernelspec": {
   "display_name": "Python 3",
   "language": "python",
   "name": "python3"
  },
  "language_info": {
   "codemirror_mode": {
    "name": "ipython",
    "version": 3
   },
   "file_extension": ".py",
   "mimetype": "text/x-python",
   "name": "python",
   "nbconvert_exporter": "python",
   "pygments_lexer": "ipython3",
   "version": "3.6.6"
  }
 },
 "nbformat": 4,
 "nbformat_minor": 2
}
