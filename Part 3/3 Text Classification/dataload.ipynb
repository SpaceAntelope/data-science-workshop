{
 "cells": [
    {
    "cell_type": "code",
    "execution_count": 1,
    "metadata": {},
    "outputs": [],
    "source": [
        "import os\n",
"\n",
"def load_data(data_path = 'bbc'):\n",
"    classes = ['business', 'entertainment', 'politics', 'sport', 'tech']\n",
"    texts = []\n",
"    labels = []\n",
"    for i, aclass in enumerate(classes):\n",
"        path = os.path.join(data_path, aclass)\n",
"        for atext in os.listdir(path):\n",
"            with open(os.path.join(path, atext)) as infile:\n",
"                data = infile.readlines()\n",
"                texts.append(data[0])\n",
"                labels.append(i)\n",
"    return texts, labels\n",
"\n",
"\n"
    ]
    }],
 "metadata": {
  "kernelspec": {
   "display_name": "Python 3",
   "language": "python",
   "name": "python3"
  },
  "language_info": {
   "codemirror_mode": {
    "name": "ipython",
    "version": 3
   },
   "file_extension": ".py",
   "mimetype": "text/x-python",
   "name": "python",
   "nbconvert_exporter": "python",
   "pygments_lexer": "ipython3",
   "version": "3.6.6"
  }
 },
 "nbformat": 4,
 "nbformat_minor": 2
}
