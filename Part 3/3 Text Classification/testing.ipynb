{
 "cells": [
    {
    "cell_type": "code",
    "execution_count": 1,
    "metadata": {},
    "outputs": [],
    "source": [
        "# Import basic libraries and keras\n",
"import json\n",
"from keras.models import load_model\n",
"from keras.preprocessing.text import Tokenizer, text_to_word_sequence\n",
"\n",
"# Load the dictionary and the model\n",
"with open('dictionary.json', 'r') as dictionary_file:\n",
"    dictionary = json.load(dictionary_file)\n",
"model = load_model('model.h5')\n",
"\n",
"tokenizer = Tokenizer(num_words=3000)\n",
"while 1:\n",
"    text = input('Input a sentence to evaluate its sentiment, or press enter to quit: ')\n",
"    if len(text) == 0:\n",
"        break\n",
"    # Make the prediction\n",
"    words = text_to_word_sequence(text)\n",
"    wordIndices = [dictionary[word] for word in words if word in dictionary]\n",
"    testdata = tokenizer.sequences_to_matrix([wordIndices], mode='binary')\n",
"    pred = model.predict(testdata)[0]\n",
"    print(\"The sentiment is %s (confidence: %.2f%%)\" % (\"negative\" if pred[0] > pred[1] else \"positive\", 100 * max(pred)))\n",
"\n"
    ]
    }],
 "metadata": {
  "kernelspec": {
   "display_name": "Python 3",
   "language": "python",
   "name": "python3"
  },
  "language_info": {
   "codemirror_mode": {
    "name": "ipython",
    "version": 3
   },
   "file_extension": ".py",
   "mimetype": "text/x-python",
   "name": "python",
   "nbconvert_exporter": "python",
   "pygments_lexer": "ipython3",
   "version": "3.6.6"
  }
 },
 "nbformat": 4,
 "nbformat_minor": 2
}
