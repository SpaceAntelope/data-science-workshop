{
 "cells": [
    {
    "cell_type": "code",
    "execution_count": 1,
    "metadata": {},
    "outputs": [],
    "source": [
        "import os\n",
"import matplotlib.pyplot as plt\n",
"from keras.optimizers import sgd\n",
"from keras.layers.core import Dense\n",
"from keras.models import Sequential, load_model\n"
    ]
    },

    {
    "cell_type": "code",
    "execution_count": 1,
    "metadata": {},
    "outputs": [],
    "source": [
        "from qcatch import Catch\n",
"from qlearning import train, test\n"
    ]
    },

    {
    "cell_type": "code",
    "execution_count": 1,
    "metadata": {},
    "outputs": [],
    "source": [
        "plt.ion()\n",
"plt.show()\n"
    ]
    },

    {
    "cell_type": "code",
    "execution_count": 1,
    "metadata": {},
    "outputs": [],
    "source": [
        "# parameters\n",
"max_memory = 500 # Maximum number of experiences we are storing\n",
"batch_size = 1 # Number of experiences we use for training per batch\n",
"grid_size = 10 # Size of the playing field\n"
    ]
    },

    {
    "cell_type": "code",
    "execution_count": 1,
    "metadata": {},
    "outputs": [],
    "source": [
        "# Check if there is a pre-trained model\n",
"if not os.path.exists('model.h5'):\n",
"    model = Sequential()\n",
"    model.add(Dense(100, input_shape=(grid_size**2,), activation='relu'))\n",
"    model.add(Dense(100, activation='relu'))\n",
"    model.add(Dense(3)) # There are 3 actions: [move_left, stay, move_right]\n",
"    model.compile(sgd(lr=.1), \"mse\")\n",
"    model.summary()\n",
"\n",
"    # Train by playing the game - change visualize to True to also visualize the training\n",
"    env = Catch(grid_size)\n",
"    epochs = 5000\n",
"    model = train(model, epochs, env, max_memory, batch_size, verbose=1, visualize=False)\n"
    ]
    },

    {
    "cell_type": "code",
    "execution_count": 1,
    "metadata": {},
    "outputs": [],
    "source": [
        "    # Save the model\n",
"    model.save('model.h5')\n",
"else:\n",
"    # Load the model from disk\n",
"    model = load_model('model.h5')\n"
    ]
    },

    {
    "cell_type": "code",
    "execution_count": 1,
    "metadata": {},
    "outputs": [],
    "source": [
        "# Play game\n",
"env = Catch(grid_size)\n",
"test(model, env)\n",
"\n"
    ]
    }],
 "metadata": {
  "kernelspec": {
   "display_name": "Python 3",
   "language": "python",
   "name": "python3"
  },
  "language_info": {
   "codemirror_mode": {
    "name": "ipython",
    "version": 3
   },
   "file_extension": ".py",
   "mimetype": "text/x-python",
   "name": "python",
   "nbconvert_exporter": "python",
   "pygments_lexer": "ipython3",
   "version": "3.6.6"
  }
 },
 "nbformat": 4,
 "nbformat_minor": 2
}
