{
 "cells": [
    {
    "cell_type": "code",
    "execution_count": 1,
    "metadata": {},
    "outputs": [],
    "source": [
        "import re\n",
"import numpy as np\n",
"from functools import reduce\n",
"from keras.preprocessing.sequence import pad_sequences\n",
"\n",
"def tokenize(sent):\n",
"    return [x.strip() for x in re.split('(\W+)?', sent) if x.strip()]\n",
"\n",
"# Parse stories provided in bAbi tasks format\n",
"def parse_stories(lines, only_supporting=False):\n",
"    data = []\n",
"    story = []\n",
"    for line in lines:\n",
"        line = line.decode('utf-8').strip()\n",
"        nid, line = line.split(' ', 1)\n",
"        nid = int(nid)\n",
"        if nid == 1:\n",
"            story = []\n",
"        if '\t' in line:\n",
"            q, a, supporting = line.split('\t')\n",
"            q = tokenize(q)\n",
"            substory = [x for x in story if x]\n",
"            data.append((substory, q, a))\n",
"            story.append('')\n",
"        else:\n",
"            sent = tokenize(line)\n",
"            story.append(sent)\n",
"    return data\n",
"\n",
"def get_stories(f):\n",
"    with open(f, 'rb') as infile:\n",
"        data = parse_stories(infile.readlines())\n",
"    flatten = lambda data: reduce(lambda x, y: x + y, data)\n",
"    data = [(flatten(story), q, answer) for story, q, answer in data]\n",
"    return data\n",
"\n",
"def vectorize_stories(data, word_idx, story_maxlen, query_maxlen):\n",
"    xs = []\n",
"    xqs = []\n",
"    ys = []\n",
"    for story, query, answer in data:\n",
"        x = [word_idx[w] for w in story]\n",
"        xq = [word_idx[w] for w in query]\n",
"        y = np.zeros(len(word_idx) + 1)\n",
"        y[word_idx[answer]] = 1\n",
"        xs.append(x)\n",
"        xqs.append(xq)\n",
"        ys.append(y)\n",
"    return pad_sequences(xs, maxlen=story_maxlen), pad_sequences(xqs, maxlen=query_maxlen), np.array(ys)\n",
"\n"
    ]
    }],
 "metadata": {
  "kernelspec": {
   "display_name": "Python 3",
   "language": "python",
   "name": "python3"
  },
  "language_info": {
   "codemirror_mode": {
    "name": "ipython",
    "version": 3
   },
   "file_extension": ".py",
   "mimetype": "text/x-python",
   "name": "python",
   "nbconvert_exporter": "python",
   "pygments_lexer": "ipython3",
   "version": "3.6.6"
  }
 },
 "nbformat": 4,
 "nbformat_minor": 2
}
